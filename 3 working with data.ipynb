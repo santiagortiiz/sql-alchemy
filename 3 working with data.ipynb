{
 "cells": [
  {
   "cell_type": "markdown",
   "metadata": {},
   "source": [
    "# DML from Core Perspective"
   ]
  },
  {
   "cell_type": "code",
   "execution_count": 2,
   "metadata": {},
   "outputs": [],
   "source": [
    "from sqlalchemy.orm import DeclarativeBase, Mapped, mapped_column, relationship\n",
    "from sqlalchemy import create_engine, MetaData, insert\n",
    "from sqlalchemy import Table, Column, Integer, String, ForeignKey"
   ]
  },
  {
   "cell_type": "code",
   "execution_count": 3,
   "metadata": {},
   "outputs": [
    {
     "data": {
      "text/plain": [
       "MetaData()"
      ]
     },
     "execution_count": 3,
     "metadata": {},
     "output_type": "execute_result"
    }
   ],
   "source": [
    "# This object structure will be at the center of most operations we perform with both Core and ORM going forward\n",
    "metadata_obj = MetaData()\n",
    "metadata_obj"
   ]
  },
  {
   "cell_type": "code",
   "execution_count": 4,
   "metadata": {},
   "outputs": [
    {
     "data": {
      "text/plain": [
       "Table('user_account', MetaData(), Column('id', Integer(), table=<user_account>, primary_key=True, nullable=False), Column('name', String(length=30), table=<user_account>), Column('fullname', String(), table=<user_account>), schema=None)"
      ]
     },
     "execution_count": 4,
     "metadata": {},
     "output_type": "execute_result"
    }
   ],
   "source": [
    "user_table = Table(\n",
    "    \"user_account\",\n",
    "    metadata_obj,\n",
    "    Column(\"id\", Integer, primary_key=True),\n",
    "    Column(\"name\", String(30)),\n",
    "    Column(\"fullname\", String),\n",
    ")\n",
    "user_table"
   ]
  },
  {
   "cell_type": "code",
   "execution_count": 5,
   "metadata": {},
   "outputs": [
    {
     "data": {
      "text/plain": [
       "Table('address', MetaData(), Column('id', Integer(), table=<address>, primary_key=True, nullable=False), Column('user_id', Integer(), ForeignKey('user_account.id'), table=<address>, nullable=False), Column('email_address', String(), table=<address>, nullable=False), schema=None)"
      ]
     },
     "execution_count": 5,
     "metadata": {},
     "output_type": "execute_result"
    }
   ],
   "source": [
    "address_table = Table(\n",
    "    \"address\",\n",
    "    metadata_obj,\n",
    "    Column(\"id\", Integer, primary_key=True),\n",
    "    Column(\"user_id\", ForeignKey(\"user_account.id\"), nullable=False),\n",
    "    Column(\"email_address\", String, nullable=False),\n",
    ")\n",
    "address_table"
   ]
  },
  {
   "cell_type": "code",
   "execution_count": 6,
   "metadata": {},
   "outputs": [
    {
     "name": "stdout",
     "output_type": "stream",
     "text": [
      "2024-08-13 20:34:14,350 INFO sqlalchemy.engine.Engine BEGIN (implicit)\n",
      "2024-08-13 20:34:14,350 INFO sqlalchemy.engine.Engine PRAGMA main.table_info(\"user_account\")\n",
      "2024-08-13 20:34:14,350 INFO sqlalchemy.engine.Engine [raw sql] ()\n",
      "2024-08-13 20:34:14,355 INFO sqlalchemy.engine.Engine PRAGMA temp.table_info(\"user_account\")\n",
      "2024-08-13 20:34:14,355 INFO sqlalchemy.engine.Engine [raw sql] ()\n",
      "2024-08-13 20:34:14,355 INFO sqlalchemy.engine.Engine PRAGMA main.table_info(\"address\")\n",
      "2024-08-13 20:34:14,357 INFO sqlalchemy.engine.Engine [raw sql] ()\n",
      "2024-08-13 20:34:14,357 INFO sqlalchemy.engine.Engine PRAGMA temp.table_info(\"address\")\n",
      "2024-08-13 20:34:14,357 INFO sqlalchemy.engine.Engine [raw sql] ()\n",
      "2024-08-13 20:34:14,357 INFO sqlalchemy.engine.Engine \n",
      "CREATE TABLE user_account (\n",
      "\tid INTEGER NOT NULL, \n",
      "\tname VARCHAR(30), \n",
      "\tfullname VARCHAR, \n",
      "\tPRIMARY KEY (id)\n",
      ")\n",
      "\n",
      "\n",
      "2024-08-13 20:34:14,357 INFO sqlalchemy.engine.Engine [no key 0.00041s] ()\n",
      "2024-08-13 20:34:14,357 INFO sqlalchemy.engine.Engine \n",
      "CREATE TABLE address (\n",
      "\tid INTEGER NOT NULL, \n",
      "\tuser_id INTEGER NOT NULL, \n",
      "\temail_address VARCHAR NOT NULL, \n",
      "\tPRIMARY KEY (id), \n",
      "\tFOREIGN KEY(user_id) REFERENCES user_account (id)\n",
      ")\n",
      "\n",
      "\n",
      "2024-08-13 20:34:14,357 INFO sqlalchemy.engine.Engine [no key 0.00069s] ()\n",
      "2024-08-13 20:34:14,357 INFO sqlalchemy.engine.Engine COMMIT\n"
     ]
    }
   ],
   "source": [
    "# Emit CREATE TABLE statements, or DDL, to our SQLite database so that we can insert and query data from them\n",
    "engine = create_engine(\"sqlite+pysqlite:///:memory:\", echo=True)\n",
    "metadata_obj.create_all(engine)"
   ]
  },
  {
   "cell_type": "markdown",
   "metadata": {},
   "source": [
    "## Insert"
   ]
  },
  {
   "cell_type": "code",
   "execution_count": 7,
   "metadata": {},
   "outputs": [
    {
     "data": {
      "text/plain": [
       "<sqlalchemy.sql.dml.Insert object at 0x00000191FA5E2690>"
      ]
     },
     "execution_count": 7,
     "metadata": {},
     "output_type": "execute_result"
    }
   ],
   "source": [
    "stmt = insert(user_table).values(name=\"spongebob\", fullname=\"Spongebob Squarepants\")\n",
    "stmt #  instance of Insert"
   ]
  },
  {
   "cell_type": "code",
   "execution_count": 8,
   "metadata": {},
   "outputs": [
    {
     "data": {
      "text/plain": [
       "(<sqlalchemy.sql.compiler.StrSQLCompiler at 0x191fa3e13d0>,\n",
       " {'name': 'spongebob', 'fullname': 'Spongebob Squarepants'})"
      ]
     },
     "execution_count": 8,
     "metadata": {},
     "output_type": "execute_result"
    }
   ],
   "source": [
    "compiled = stmt.compile()\n",
    "compiled, compiled.params"
   ]
  },
  {
   "cell_type": "code",
   "execution_count": 9,
   "metadata": {},
   "outputs": [
    {
     "name": "stdout",
     "output_type": "stream",
     "text": [
      "2024-08-13 20:34:14,395 INFO sqlalchemy.engine.Engine BEGIN (implicit)\n",
      "2024-08-13 20:34:14,398 INFO sqlalchemy.engine.Engine INSERT INTO user_account (name, fullname) VALUES (?, ?)\n",
      "2024-08-13 20:34:14,399 INFO sqlalchemy.engine.Engine [generated in 0.00176s] ('spongebob', 'Spongebob Squarepants')\n",
      "2024-08-13 20:34:14,400 INFO sqlalchemy.engine.Engine COMMIT\n"
     ]
    }
   ],
   "source": [
    "with engine.connect() as conn:\n",
    "    result = conn.execute(stmt)\n",
    "    conn.commit()"
   ]
  },
  {
   "cell_type": "code",
   "execution_count": 10,
   "metadata": {},
   "outputs": [
    {
     "data": {
      "text/plain": [
       "(1,)"
      ]
     },
     "execution_count": 10,
     "metadata": {},
     "output_type": "execute_result"
    }
   ],
   "source": [
    "# CursorResult.inserted_primary_key returns a tuple because a primary key may contain multiple columns.\n",
    "# This is known as a composite primary key.\n",
    "result.inserted_primary_key"
   ]
  },
  {
   "cell_type": "code",
   "execution_count": 11,
   "metadata": {},
   "outputs": [
    {
     "name": "stdout",
     "output_type": "stream",
     "text": [
      "INSERT INTO user_account (id, name, fullname) VALUES (:id, :name, :fullname)\n"
     ]
    }
   ],
   "source": [
    "# If we don’t actually use Insert.values() and just print out an “empty” statement,\n",
    "# we get an INSERT for every column in the table:\n",
    "print(insert(user_table))"
   ]
  },
  {
   "cell_type": "code",
   "execution_count": 12,
   "metadata": {},
   "outputs": [
    {
     "name": "stdout",
     "output_type": "stream",
     "text": [
      "2024-08-13 20:34:14,435 INFO sqlalchemy.engine.Engine BEGIN (implicit)\n",
      "2024-08-13 20:34:14,435 INFO sqlalchemy.engine.Engine INSERT INTO user_account (name, fullname) VALUES (?, ?)\n",
      "2024-08-13 20:34:14,435 INFO sqlalchemy.engine.Engine [generated in 0.00145s] [('sandy', 'Sandy Cheeks'), ('patrick', 'Patrick Star')]\n",
      "2024-08-13 20:34:14,435 INFO sqlalchemy.engine.Engine COMMIT\n"
     ]
    }
   ],
   "source": [
    "with engine.connect() as conn:\n",
    "    result = conn.execute(\n",
    "        insert(user_table),\n",
    "        [\n",
    "            {\"name\": \"sandy\", \"fullname\": \"Sandy Cheeks\"},\n",
    "            {\"name\": \"patrick\", \"fullname\": \"Patrick Star\"},\n",
    "        ],\n",
    "    )\n",
    "    conn.commit()"
   ]
  },
  {
   "cell_type": "code",
   "execution_count": 13,
   "metadata": {},
   "outputs": [
    {
     "name": "stdout",
     "output_type": "stream",
     "text": [
      "2024-08-13 20:34:14,450 INFO sqlalchemy.engine.Engine BEGIN (implicit)\n",
      "2024-08-13 20:34:14,450 INFO sqlalchemy.engine.Engine INSERT INTO address (user_id, email_address) VALUES ((SELECT user_account.id \n",
      "FROM user_account \n",
      "WHERE user_account.name = ?), ?)\n",
      "2024-08-13 20:34:14,450 INFO sqlalchemy.engine.Engine [generated in 0.00128s] [('spongebob', 'spongebob@sqlalchemy.org'), ('sandy', 'sandy@sqlalchemy.org'), ('sandy', 'sandy@squirrelpower.org')]\n",
      "2024-08-13 20:34:14,450 INFO sqlalchemy.engine.Engine COMMIT\n"
     ]
    }
   ],
   "source": [
    "# Tricky feature\n",
    "from sqlalchemy import select, bindparam\n",
    "scalar_subq = (\n",
    "    select(user_table.c.id)\n",
    "    .where(user_table.c.name == bindparam(\"username\"))\n",
    "    .scalar_subquery()\n",
    ")\n",
    "\n",
    "with engine.connect() as conn:\n",
    "    result = conn.execute(\n",
    "        insert(address_table).values(user_id=scalar_subq),\n",
    "        [\n",
    "            {\n",
    "                \"username\": \"spongebob\",\n",
    "                \"email_address\": \"spongebob@sqlalchemy.org\",\n",
    "            },\n",
    "            {\"username\": \"sandy\", \"email_address\": \"sandy@sqlalchemy.org\"},\n",
    "            {\"username\": \"sandy\", \"email_address\": \"sandy@squirrelpower.org\"},\n",
    "        ],\n",
    "    )\n",
    "    conn.commit()"
   ]
  },
  {
   "cell_type": "code",
   "execution_count": 14,
   "metadata": {},
   "outputs": [
    {
     "name": "stdout",
     "output_type": "stream",
     "text": [
      "INSERT INTO address (id, user_id, email_address) VALUES (:id, :user_id, :email_address) RETURNING address.id, address.email_address\n"
     ]
    }
   ],
   "source": [
    "# Insert returning\n",
    "insert_stmt = insert(address_table).returning(\n",
    "    address_table.c.id, address_table.c.email_address\n",
    ")\n",
    "print(insert_stmt)"
   ]
  },
  {
   "cell_type": "code",
   "execution_count": 15,
   "metadata": {},
   "outputs": [
    {
     "name": "stdout",
     "output_type": "stream",
     "text": [
      "INSERT INTO address (user_id, email_address) SELECT user_account.id, user_account.name || :name_1 AS anon_1 \n",
      "FROM user_account RETURNING address.id, address.email_address\n"
     ]
    }
   ],
   "source": [
    "# Insert from select\n",
    "select_stmt = select(user_table.c.id, user_table.c.name + \"@aol.com\")\n",
    "insert_stmt = insert(address_table).from_select(\n",
    "    [\"user_id\", \"email_address\"], select_stmt\n",
    ")\n",
    "print(insert_stmt.returning(address_table.c.id, address_table.c.email_address))"
   ]
  },
  {
   "cell_type": "markdown",
   "metadata": {},
   "source": [
    "## Select"
   ]
  },
  {
   "cell_type": "code",
   "execution_count": 16,
   "metadata": {},
   "outputs": [
    {
     "name": "stdout",
     "output_type": "stream",
     "text": [
      "SELECT user_account.id, user_account.name, user_account.fullname \n",
      "FROM user_account \n",
      "WHERE user_account.name = :name_1\n"
     ]
    }
   ],
   "source": [
    "from sqlalchemy import select\n",
    "stmt = select(user_table).where(user_table.c.name == \"spongebob\")\n",
    "print(stmt)"
   ]
  },
  {
   "cell_type": "code",
   "execution_count": 17,
   "metadata": {},
   "outputs": [
    {
     "name": "stdout",
     "output_type": "stream",
     "text": [
      "2024-08-13 20:44:56,006 INFO sqlalchemy.engine.Engine BEGIN (implicit)\n",
      "2024-08-13 20:44:56,007 INFO sqlalchemy.engine.Engine SELECT user_account.id, user_account.name, user_account.fullname \n",
      "FROM user_account \n",
      "WHERE user_account.name = ?\n",
      "2024-08-13 20:44:56,008 INFO sqlalchemy.engine.Engine [generated in 0.00216s] ('spongebob',)\n",
      "(1, 'spongebob', 'Spongebob Squarepants')\n",
      "2024-08-13 20:44:56,010 INFO sqlalchemy.engine.Engine ROLLBACK\n"
     ]
    }
   ],
   "source": [
    "with engine.connect() as conn:\n",
    "    for row in conn.execute(stmt):\n",
    "        print(row)"
   ]
  }
 ],
 "metadata": {
  "kernelspec": {
   "display_name": ".venv",
   "language": "python",
   "name": "python3"
  },
  "language_info": {
   "codemirror_mode": {
    "name": "ipython",
    "version": 3
   },
   "file_extension": ".py",
   "mimetype": "text/x-python",
   "name": "python",
   "nbconvert_exporter": "python",
   "pygments_lexer": "ipython3",
   "version": "3.11.6"
  }
 },
 "nbformat": 4,
 "nbformat_minor": 2
}
