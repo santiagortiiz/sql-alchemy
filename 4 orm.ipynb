{
 "cells": [
  {
   "cell_type": "markdown",
   "metadata": {},
   "source": [
    "# Data manipulation with the ORM"
   ]
  },
  {
   "cell_type": "code",
   "execution_count": 30,
   "metadata": {},
   "outputs": [],
   "source": [
    "from sqlalchemy.orm import DeclarativeBase, Mapped, mapped_column, relationship, Session\n",
    "from sqlalchemy import create_engine, MetaData, insert, select\n",
    "from sqlalchemy import Table, Column, Integer, String, ForeignKey"
   ]
  },
  {
   "cell_type": "code",
   "execution_count": 15,
   "metadata": {},
   "outputs": [],
   "source": [
    "engine = create_engine(\"sqlite+pysqlite:///:memory:\", echo=True)\n",
    "session = Session(engine)"
   ]
  },
  {
   "cell_type": "code",
   "execution_count": 16,
   "metadata": {},
   "outputs": [
    {
     "data": {
      "text/plain": [
       "MetaData()"
      ]
     },
     "execution_count": 16,
     "metadata": {},
     "output_type": "execute_result"
    }
   ],
   "source": [
    "# The Declarative Base refers to a MetaData collection that is created for us automatically\n",
    "class Base(DeclarativeBase):\n",
    "    pass\n",
    "\n",
    "# MetaData collection is accessible via the DeclarativeBase.metadata class-level attribute.\n",
    "Base.metadata"
   ]
  },
  {
   "cell_type": "code",
   "execution_count": 17,
   "metadata": {},
   "outputs": [],
   "source": [
    "# Declarative table configuration\n",
    "class User(Base):\n",
    "    __tablename__ = \"user_account\"\n",
    "    id: Mapped[int] = mapped_column(primary_key=True)\n",
    "    name: Mapped[str] = mapped_column(String(30))\n",
    "    fullname: Mapped[str | None]\n",
    "    addresses: Mapped[list[\"Address\"]] = relationship(back_populates=\"user\")\n",
    "    def __repr__(self) -> str:\n",
    "        return f\"User(id={self.id!r}, name={self.name!r}, fullname={self.fullname!r})\"\n",
    "\n",
    "class Address(Base):\n",
    "    __tablename__ = \"address\"\n",
    "    id: Mapped[int] = mapped_column(primary_key=True)\n",
    "    email_address: Mapped[str]\n",
    "    user_id = mapped_column(ForeignKey(\"user_account.id\"))\n",
    "    user: Mapped[User] = relationship(back_populates=\"addresses\")\n",
    "    def __repr__(self) -> str:\n",
    "        return f\"Address(id={self.id!r}, email_address={self.email_address!r})\""
   ]
  },
  {
   "cell_type": "code",
   "execution_count": 18,
   "metadata": {},
   "outputs": [
    {
     "name": "stdout",
     "output_type": "stream",
     "text": [
      "2024-08-13 21:27:46,536 INFO sqlalchemy.engine.Engine BEGIN (implicit)\n",
      "2024-08-13 21:27:46,537 INFO sqlalchemy.engine.Engine PRAGMA main.table_info(\"user_account\")\n",
      "2024-08-13 21:27:46,538 INFO sqlalchemy.engine.Engine [raw sql] ()\n",
      "2024-08-13 21:27:46,539 INFO sqlalchemy.engine.Engine PRAGMA temp.table_info(\"user_account\")\n",
      "2024-08-13 21:27:46,540 INFO sqlalchemy.engine.Engine [raw sql] ()\n",
      "2024-08-13 21:27:46,541 INFO sqlalchemy.engine.Engine PRAGMA main.table_info(\"address\")\n",
      "2024-08-13 21:27:46,542 INFO sqlalchemy.engine.Engine [raw sql] ()\n",
      "2024-08-13 21:27:46,543 INFO sqlalchemy.engine.Engine PRAGMA temp.table_info(\"address\")\n",
      "2024-08-13 21:27:46,544 INFO sqlalchemy.engine.Engine [raw sql] ()\n",
      "2024-08-13 21:27:46,546 INFO sqlalchemy.engine.Engine \n",
      "CREATE TABLE user_account (\n",
      "\tid INTEGER NOT NULL, \n",
      "\tname VARCHAR(30) NOT NULL, \n",
      "\tfullname VARCHAR, \n",
      "\tPRIMARY KEY (id)\n",
      ")\n",
      "\n",
      "\n",
      "2024-08-13 21:27:46,547 INFO sqlalchemy.engine.Engine [no key 0.00119s] ()\n",
      "2024-08-13 21:27:46,548 INFO sqlalchemy.engine.Engine \n",
      "CREATE TABLE address (\n",
      "\tid INTEGER NOT NULL, \n",
      "\temail_address VARCHAR NOT NULL, \n",
      "\tuser_id INTEGER, \n",
      "\tPRIMARY KEY (id), \n",
      "\tFOREIGN KEY(user_id) REFERENCES user_account (id)\n",
      ")\n",
      "\n",
      "\n",
      "2024-08-13 21:27:46,548 INFO sqlalchemy.engine.Engine [no key 0.00056s] ()\n",
      "2024-08-13 21:27:46,549 INFO sqlalchemy.engine.Engine COMMIT\n"
     ]
    }
   ],
   "source": [
    "Base.metadata.create_all(engine)"
   ]
  },
  {
   "cell_type": "code",
   "execution_count": 32,
   "metadata": {},
   "outputs": [
    {
     "data": {
      "text/plain": [
       "(User(id=None, name='squidward', fullname='Squidward Tentacles'),\n",
       " User(id=None, name='ehkrabs', fullname='Eugene H. Krabs'),\n",
       " User(id=None, name='sandy', fullname='Sandy Cheeks'))"
      ]
     },
     "execution_count": 32,
     "metadata": {},
     "output_type": "execute_result"
    }
   ],
   "source": [
    "squidward = User(name=\"squidward\", fullname=\"Squidward Tentacles\")\n",
    "krabs = User(name=\"ehkrabs\", fullname=\"Eugene H. Krabs\")\n",
    "sandy = User(name=\"sandy\", fullname=\"Sandy Cheeks\")\n",
    "\n",
    "squidward, krabs, sandy"
   ]
  },
  {
   "cell_type": "markdown",
   "metadata": {},
   "source": [
    "To illustrate the addition process step by step, we will create a Session without using a context manager (and hence we must make sure we close it later!):"
   ]
  },
  {
   "cell_type": "code",
   "execution_count": 33,
   "metadata": {},
   "outputs": [],
   "source": [
    "# The objects are then added to the Session using the Session.add() method.\n",
    "# When this is called, the objects are in a state known as pending and have not been inserted yet:\n",
    "session.add(squidward)\n",
    "session.add(krabs)\n",
    "session.add(sandy)\n"
   ]
  },
  {
   "cell_type": "code",
   "execution_count": 34,
   "metadata": {},
   "outputs": [
    {
     "data": {
      "text/plain": [
       "IdentitySet([User(id=None, name='squidward', fullname='Squidward Tentacles'), User(id=None, name='ehkrabs', fullname='Eugene H. Krabs'), User(id=None, name='sandy', fullname='Sandy Cheeks')])"
      ]
     },
     "execution_count": 34,
     "metadata": {},
     "output_type": "execute_result"
    }
   ],
   "source": [
    "# When we have pending objects, we can see this state by\n",
    "# looking at a collection on the Session called Session.new:\n",
    "session.new"
   ]
  },
  {
   "cell_type": "code",
   "execution_count": 35,
   "metadata": {},
   "outputs": [
    {
     "name": "stdout",
     "output_type": "stream",
     "text": [
      "2024-08-13 21:38:59,504 INFO sqlalchemy.engine.Engine INSERT INTO user_account (name, fullname) VALUES (?, ?) RETURNING id\n",
      "2024-08-13 21:38:59,504 INFO sqlalchemy.engine.Engine [cached since 672.9s ago (insertmanyvalues) 1/3 (ordered; batch not supported)] ('squidward', 'Squidward Tentacles')\n",
      "2024-08-13 21:38:59,511 INFO sqlalchemy.engine.Engine INSERT INTO user_account (name, fullname) VALUES (?, ?) RETURNING id\n",
      "2024-08-13 21:38:59,511 INFO sqlalchemy.engine.Engine [insertmanyvalues 2/3 (ordered; batch not supported)] ('ehkrabs', 'Eugene H. Krabs')\n",
      "2024-08-13 21:38:59,513 INFO sqlalchemy.engine.Engine INSERT INTO user_account (name, fullname) VALUES (?, ?) RETURNING id\n",
      "2024-08-13 21:38:59,513 INFO sqlalchemy.engine.Engine [insertmanyvalues 3/3 (ordered; batch not supported)] ('sandy', 'Sandy Cheeks')\n"
     ]
    }
   ],
   "source": [
    "# The Session makes use of a pattern known as unit of work.\n",
    "# This generally means it accumulates changes one at a time, but does not actually communicate them to the database until needed.\n",
    "# This allows it to make better decisions about how SQL DML should be emitted in the transaction based on a given set of pending changes.\n",
    "# When it does emit SQL to the database to push out the current set of changes, the process is known as a flush.\n",
    "session.flush()"
   ]
  },
  {
   "cell_type": "markdown",
   "metadata": {},
   "source": [
    "Above we observe the Session was first called upon to emit SQL, so it created a new transaction and emitted the appropriate INSERT statements for the two objects. The transaction now remains open until we call any of the Session.commit(), Session.rollback(), or Session.close() methods of Session.\n",
    "\n",
    "It is usually **unnecessary** as the Session features a behavior known as autoflush, which we will illustrate later. It also flushes out changes whenever Session.commit() is called."
   ]
  },
  {
   "cell_type": "code",
   "execution_count": 23,
   "metadata": {},
   "outputs": [
    {
     "data": {
      "text/plain": [
       "(1, 2)"
      ]
     },
     "execution_count": 23,
     "metadata": {},
     "output_type": "execute_result"
    }
   ],
   "source": [
    "# Autogenerated primary key attributes\n",
    "squidward.id, krabs.id"
   ]
  },
  {
   "cell_type": "code",
   "execution_count": 36,
   "metadata": {},
   "outputs": [
    {
     "name": "stdout",
     "output_type": "stream",
     "text": [
      "2024-08-13 21:39:02,621 INFO sqlalchemy.engine.Engine COMMIT\n"
     ]
    }
   ],
   "source": [
    "session.commit()"
   ]
  },
  {
   "cell_type": "code",
   "execution_count": 37,
   "metadata": {},
   "outputs": [
    {
     "name": "stdout",
     "output_type": "stream",
     "text": [
      "2024-08-13 21:39:06,315 INFO sqlalchemy.engine.Engine ROLLBACK\n"
     ]
    }
   ],
   "source": [
    "# Manually closing the session\n",
    "session.close()"
   ]
  },
  {
   "cell_type": "code",
   "execution_count": null,
   "metadata": {},
   "outputs": [],
   "source": [
    "# entities are detached after the session is closed\n",
    "# squidward.id, krabs.id # DetachedInstanceError"
   ]
  },
  {
   "cell_type": "code",
   "execution_count": 40,
   "metadata": {},
   "outputs": [
    {
     "name": "stdout",
     "output_type": "stream",
     "text": [
      "2024-08-13 21:40:06,931 INFO sqlalchemy.engine.Engine SELECT user_account.id, user_account.name, user_account.fullname \n",
      "FROM user_account \n",
      "WHERE user_account.name = ?\n",
      "2024-08-13 21:40:06,932 INFO sqlalchemy.engine.Engine [cached since 148.5s ago] ('sandy',)\n"
     ]
    },
    {
     "data": {
      "text/plain": [
       "User(id=5, name='sandy', fullname='Sandy Cheeks')"
      ]
     },
     "execution_count": 40,
     "metadata": {},
     "output_type": "execute_result"
    }
   ],
   "source": [
    "sandy = session.execute(select(User).filter_by(name=\"sandy\")).scalar_one()\n",
    "sandy"
   ]
  },
  {
   "cell_type": "code",
   "execution_count": 41,
   "metadata": {},
   "outputs": [
    {
     "data": {
      "text/plain": [
       "False"
      ]
     },
     "execution_count": 41,
     "metadata": {},
     "output_type": "execute_result"
    }
   ],
   "source": [
    "sandy in session.dirty"
   ]
  },
  {
   "cell_type": "code",
   "execution_count": 42,
   "metadata": {},
   "outputs": [
    {
     "name": "stdout",
     "output_type": "stream",
     "text": [
      "2024-08-13 21:40:55,682 INFO sqlalchemy.engine.Engine SELECT user_account.fullname \n",
      "FROM user_account \n",
      "WHERE user_account.id = ?\n",
      "2024-08-13 21:40:55,684 INFO sqlalchemy.engine.Engine [generated in 0.00132s] (5,)\n",
      "Sandy Cheeks\n"
     ]
    }
   ],
   "source": [
    "sandy_fullname = session.execute(select(User.fullname).where(User.id == 5)).scalar_one()\n",
    "print(sandy_fullname)"
   ]
  },
  {
   "cell_type": "code",
   "execution_count": 43,
   "metadata": {},
   "outputs": [
    {
     "name": "stdout",
     "output_type": "stream",
     "text": [
      "2024-08-13 21:42:52,649 INFO sqlalchemy.engine.Engine SELECT user_account.id AS user_account_id, user_account.name AS user_account_name, user_account.fullname AS user_account_fullname \n",
      "FROM user_account \n",
      "WHERE user_account.id = ?\n",
      "2024-08-13 21:42:52,652 INFO sqlalchemy.engine.Engine [generated in 0.00259s] (3,)\n"
     ]
    }
   ],
   "source": [
    "patrick = session.get(User, 3)"
   ]
  },
  {
   "cell_type": "code",
   "execution_count": 44,
   "metadata": {},
   "outputs": [
    {
     "data": {
      "text/plain": [
       "User(id=3, name='squidward', fullname='Squidward Tentacles')"
      ]
     },
     "execution_count": 44,
     "metadata": {},
     "output_type": "execute_result"
    }
   ],
   "source": [
    "patrick"
   ]
  },
  {
   "cell_type": "code",
   "execution_count": 45,
   "metadata": {},
   "outputs": [],
   "source": [
    "# Current ORM behavior is that patrick stays in the Session until the flush proceeds,\n",
    "# which as mentioned before occurs if we emit a query:\n",
    "session.delete(patrick)"
   ]
  },
  {
   "cell_type": "code",
   "execution_count": 46,
   "metadata": {},
   "outputs": [
    {
     "name": "stdout",
     "output_type": "stream",
     "text": [
      "2024-08-13 21:44:02,575 INFO sqlalchemy.engine.Engine SELECT address.id AS address_id, address.email_address AS address_email_address, address.user_id AS address_user_id \n",
      "FROM address \n",
      "WHERE ? = address.user_id\n",
      "2024-08-13 21:44:02,576 INFO sqlalchemy.engine.Engine [generated in 0.00137s] (3,)\n",
      "2024-08-13 21:44:02,578 INFO sqlalchemy.engine.Engine DELETE FROM user_account WHERE user_account.id = ?\n",
      "2024-08-13 21:44:02,579 INFO sqlalchemy.engine.Engine [generated in 0.00086s] (3,)\n",
      "2024-08-13 21:44:02,580 INFO sqlalchemy.engine.Engine SELECT user_account.id, user_account.name, user_account.fullname \n",
      "FROM user_account \n",
      "WHERE user_account.name = ?\n",
      "2024-08-13 21:44:02,581 INFO sqlalchemy.engine.Engine [cached since 384.2s ago] ('patrick',)\n"
     ]
    }
   ],
   "source": [
    "session.execute(select(User).where(User.name == \"patrick\")).first()"
   ]
  },
  {
   "cell_type": "markdown",
   "metadata": {},
   "source": [
    "Above, the SELECT we asked to emit was preceded by a DELETE, which indicated the pending deletion for patrick proceeded. There was also a SELECT against the address table, which was prompted by the ORM looking for rows in this table which may be related to the target row; this behavior is part of a behavior known as cascade,"
   ]
  },
  {
   "cell_type": "code",
   "execution_count": 48,
   "metadata": {},
   "outputs": [
    {
     "data": {
      "text/plain": [
       "False"
      ]
     },
     "execution_count": 48,
     "metadata": {},
     "output_type": "execute_result"
    }
   ],
   "source": [
    "patrick in session"
   ]
  },
  {
   "cell_type": "code",
   "execution_count": 49,
   "metadata": {},
   "outputs": [
    {
     "name": "stdout",
     "output_type": "stream",
     "text": [
      "2024-08-13 21:48:19,783 INFO sqlalchemy.engine.Engine ROLLBACK\n"
     ]
    }
   ],
   "source": [
    "# rollback will not only roll back the transaction but also expire all objects currently associated with this Session\n",
    "session.rollback()"
   ]
  },
  {
   "cell_type": "code",
   "execution_count": 52,
   "metadata": {},
   "outputs": [
    {
     "data": {
      "text/plain": [
       "{'_sa_instance_state': <sqlalchemy.orm.state.InstanceState at 0x248a2b1f710>,\n",
       " 'id': 3,\n",
       " 'fullname': 'Squidward Tentacles',\n",
       " 'name': 'squidward'}"
      ]
     },
     "execution_count": 52,
     "metadata": {},
     "output_type": "execute_result"
    }
   ],
   "source": [
    "# accessing an attribute again will autobegin a new transaction and refresh sandy with the current database row:\n",
    "patrick.__dict__"
   ]
  },
  {
   "cell_type": "code",
   "execution_count": 53,
   "metadata": {},
   "outputs": [
    {
     "name": "stdout",
     "output_type": "stream",
     "text": [
      "2024-08-13 21:49:39,007 INFO sqlalchemy.engine.Engine ROLLBACK\n"
     ]
    }
   ],
   "source": [
    "session.close()"
   ]
  },
  {
   "cell_type": "markdown",
   "metadata": {},
   "source": [
    "**Closing a session**\n",
    "\n",
    "It **expunges** all objects from the Session.\n",
    "\n",
    "This means that all the Python objects we had loaded for this Session, like sandy, patrick and squidward, are now in a state known as detached. In particular, we will note that objects that were still in an expired state, for example due to the call to Session.commit(), are now non-functional, as they don’t contain the state of a current row and are no longer associated with any database transaction in which to be refreshed:"
   ]
  },
  {
   "cell_type": "code",
   "execution_count": null,
   "metadata": {},
   "outputs": [],
   "source": []
  }
 ],
 "metadata": {
  "kernelspec": {
   "display_name": ".venv",
   "language": "python",
   "name": "python3"
  },
  "language_info": {
   "codemirror_mode": {
    "name": "ipython",
    "version": 3
   },
   "file_extension": ".py",
   "mimetype": "text/x-python",
   "name": "python",
   "nbconvert_exporter": "python",
   "pygments_lexer": "ipython3",
   "version": "3.11.6"
  }
 },
 "nbformat": 4,
 "nbformat_minor": 2
}
