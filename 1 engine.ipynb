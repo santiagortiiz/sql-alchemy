{
 "cells": [
  {
   "cell_type": "code",
   "execution_count": 1,
   "metadata": {},
   "outputs": [],
   "source": [
    "from sqlalchemy import create_engine\n",
    "from sqlalchemy import text"
   ]
  },
  {
   "cell_type": "markdown",
   "metadata": {},
   "source": [
    "# Core Engine and Connection objects"
   ]
  },
  {
   "cell_type": "code",
   "execution_count": 2,
   "metadata": {},
   "outputs": [],
   "source": [
    "engine = create_engine(\"sqlite+pysqlite:///:memory:\", echo=True)"
   ]
  },
  {
   "cell_type": "code",
   "execution_count": 3,
   "metadata": {},
   "outputs": [
    {
     "name": "stdout",
     "output_type": "stream",
     "text": [
      "2024-08-11 16:02:58,260 INFO sqlalchemy.engine.Engine BEGIN (implicit)\n",
      "2024-08-11 16:02:58,262 INFO sqlalchemy.engine.Engine select 'hello world'\n",
      "2024-08-11 16:02:58,263 INFO sqlalchemy.engine.Engine [generated in 0.00279s] ()\n",
      "[('hello world',)]\n",
      "2024-08-11 16:02:58,264 INFO sqlalchemy.engine.Engine ROLLBACK\n"
     ]
    }
   ],
   "source": [
    "# The transaction is not committed automatically\n",
    "# It executes BEGIN implicitly and ROLLBACK at the end\n",
    "with engine.connect() as conn:\n",
    "    result = conn.execute(text(\"select 'hello world'\"))\n",
    "    print(result.all())"
   ]
  },
  {
   "cell_type": "code",
   "execution_count": 4,
   "metadata": {},
   "outputs": [
    {
     "name": "stdout",
     "output_type": "stream",
     "text": [
      "2024-08-11 16:02:58,279 INFO sqlalchemy.engine.Engine BEGIN (implicit)\n",
      "2024-08-11 16:02:58,280 INFO sqlalchemy.engine.Engine CREATE TABLE some_table (x int, y int)\n",
      "2024-08-11 16:02:58,281 INFO sqlalchemy.engine.Engine [generated in 0.00250s] ()\n",
      "2024-08-11 16:02:58,283 INFO sqlalchemy.engine.Engine INSERT INTO some_table (x, y) VALUES (?, ?)\n",
      "2024-08-11 16:02:58,284 INFO sqlalchemy.engine.Engine [generated in 0.00153s] [(1, 1), (2, 4)]\n",
      "2024-08-11 16:02:58,286 INFO sqlalchemy.engine.Engine COMMIT\n"
     ]
    }
   ],
   "source": [
    "# Style: Commit as you go\n",
    "with engine.connect() as conn:\n",
    "    conn.execute(text(\"CREATE TABLE some_table (x int, y int)\"))\n",
    "    conn.execute(\n",
    "        text(\"INSERT INTO some_table (x, y) VALUES (:x, :y)\"),\n",
    "        [{\"x\": 1, \"y\": 1}, {\"x\": 2, \"y\": 4}],\n",
    "    )\n",
    "    conn.commit()"
   ]
  },
  {
   "cell_type": "code",
   "execution_count": 5,
   "metadata": {},
   "outputs": [
    {
     "name": "stdout",
     "output_type": "stream",
     "text": [
      "2024-08-11 16:02:58,300 INFO sqlalchemy.engine.Engine BEGIN (implicit)\n",
      "2024-08-11 16:02:58,301 INFO sqlalchemy.engine.Engine INSERT INTO some_table (x, y) VALUES (?, ?)\n",
      "2024-08-11 16:02:58,302 INFO sqlalchemy.engine.Engine [cached since 0.01964s ago] [(6, 8), (9, 10)]\n",
      "2024-08-11 16:02:58,303 INFO sqlalchemy.engine.Engine COMMIT\n"
     ]
    }
   ],
   "source": [
    "# Style: Begin once\n",
    "with engine.begin() as conn:\n",
    "    conn.execute(\n",
    "        text(\"INSERT INTO some_table (x, y) VALUES (:x, :y)\"),\n",
    "        [{\"x\": 6, \"y\": 8}, {\"x\": 9, \"y\": 10}],\n",
    "    )"
   ]
  },
  {
   "cell_type": "code",
   "execution_count": 6,
   "metadata": {},
   "outputs": [
    {
     "name": "stdout",
     "output_type": "stream",
     "text": [
      "2024-08-11 16:02:58,320 INFO sqlalchemy.engine.Engine BEGIN (implicit)\n",
      "2024-08-11 16:02:58,321 INFO sqlalchemy.engine.Engine SELECT x, y FROM some_table\n",
      "2024-08-11 16:02:58,322 INFO sqlalchemy.engine.Engine [generated in 0.00234s] ()\n",
      "x: 1  y: 1\n",
      "x: 2  y: 4\n",
      "x: 6  y: 8\n",
      "x: 9  y: 10\n",
      "2024-08-11 16:02:58,323 INFO sqlalchemy.engine.Engine ROLLBACK\n"
     ]
    }
   ],
   "source": [
    "# The result object represents an iterable object of result rows\n",
    "# result has lots of methods for fetching and transforming rows, it also implements\n",
    "# the Python iterator interface so that we can iterate over the collection of Row objects directly\n",
    "with engine.connect() as conn:\n",
    "    result = conn.execute(text(\"SELECT x, y FROM some_table\"))\n",
    "    # The Row objects themselves are intended to act like Python named tuples\n",
    "    for row in result:\n",
    "        print(f\"x: {row.x}  y: {row.y}\")"
   ]
  },
  {
   "cell_type": "code",
   "execution_count": 7,
   "metadata": {},
   "outputs": [
    {
     "name": "stdout",
     "output_type": "stream",
     "text": [
      "2024-08-11 16:02:58,338 INFO sqlalchemy.engine.Engine BEGIN (implicit)\n",
      "2024-08-11 16:02:58,339 INFO sqlalchemy.engine.Engine select x, y from some_table\n",
      "2024-08-11 16:02:58,340 INFO sqlalchemy.engine.Engine [generated in 0.00239s] ()\n",
      "2024-08-11 16:02:58,342 INFO sqlalchemy.engine.Engine ROLLBACK\n"
     ]
    }
   ],
   "source": [
    "# Another way to get the result is by Mapping Access\n",
    "with engine.connect() as conn:\n",
    "    result = conn.execute(text(\"select x, y from some_table\"))\n",
    "\n",
    "    for dict_row in result.mappings():\n",
    "        x = dict_row[\"x\"]\n",
    "        y = dict_row[\"y\"]"
   ]
  },
  {
   "cell_type": "markdown",
   "metadata": {},
   "source": [
    "# Passing Parameters\n",
    "\n",
    "When using textual SQL, a Python literal value, even non-strings like integers or dates, should never be stringified into SQL string directly; a parameter should always be used. This is most famously known as how to avoid SQL injection attacks when the data is untrusted. However it also allows the SQLAlchemy dialects and/or DBAPI to correctly handle the incoming input for the backend"
   ]
  },
  {
   "cell_type": "code",
   "execution_count": 8,
   "metadata": {},
   "outputs": [
    {
     "name": "stdout",
     "output_type": "stream",
     "text": [
      "2024-08-11 16:02:58,358 INFO sqlalchemy.engine.Engine BEGIN (implicit)\n",
      "2024-08-11 16:02:58,360 INFO sqlalchemy.engine.Engine SELECT x, y FROM some_table WHERE y > ?\n",
      "2024-08-11 16:02:58,361 INFO sqlalchemy.engine.Engine [generated in 0.00225s] (2,)\n",
      "x: 2  y: 4\n",
      "x: 6  y: 8\n",
      "x: 9  y: 10\n",
      "2024-08-11 16:02:58,362 INFO sqlalchemy.engine.Engine ROLLBACK\n"
     ]
    }
   ],
   "source": [
    "with engine.connect() as conn:\n",
    "    result = conn.execute(text(\"SELECT x, y FROM some_table WHERE y > :y\"), {\"y\": 2})\n",
    "    for row in result:\n",
    "        print(f\"x: {row.x}  y: {row.y}\")"
   ]
  },
  {
   "cell_type": "code",
   "execution_count": 9,
   "metadata": {},
   "outputs": [
    {
     "name": "stdout",
     "output_type": "stream",
     "text": [
      "2024-08-11 16:02:58,376 INFO sqlalchemy.engine.Engine BEGIN (implicit)\n",
      "2024-08-11 16:02:58,377 INFO sqlalchemy.engine.Engine INSERT INTO some_table (x, y) VALUES (?, ?)\n",
      "2024-08-11 16:02:58,379 INFO sqlalchemy.engine.Engine [cached since 0.09588s ago] [(11, 12), (13, 14)]\n",
      "2024-08-11 16:02:58,379 INFO sqlalchemy.engine.Engine COMMIT\n"
     ]
    }
   ],
   "source": [
    "# Sending multiple parameters\n",
    "with engine.connect() as conn:\n",
    "    conn.execute(\n",
    "        text(\"INSERT INTO some_table (x, y) VALUES (:x, :y)\"),\n",
    "        [{\"x\": 11, \"y\": 12}, {\"x\": 13, \"y\": 14}],\n",
    "    )\n",
    "    conn.commit()"
   ]
  },
  {
   "cell_type": "markdown",
   "metadata": {},
   "source": [
    "# Session\n",
    "The fundamental transactional / database interactive object when using the ORM is called the Session. In modern SQLAlchemy, this object is used in a manner very similar to that of the Connection, and in fact as the Session is used, it refers to a Connection internally which it uses to emit SQL.\n",
    "\n",
    "\n",
    "**Tip:**\n",
    "\n",
    "The Session doesn’t actually hold onto the Connection object after it ends the transaction. It gets a new Connection from the Engine the next time it needs to execute SQL against the database."
   ]
  },
  {
   "cell_type": "code",
   "execution_count": 10,
   "metadata": {},
   "outputs": [
    {
     "name": "stdout",
     "output_type": "stream",
     "text": [
      "2024-08-11 16:02:58,574 INFO sqlalchemy.engine.Engine BEGIN (implicit)\n",
      "2024-08-11 16:02:58,574 INFO sqlalchemy.engine.Engine SELECT x, y FROM some_table WHERE y > ? ORDER BY x, y\n",
      "2024-08-11 16:02:58,574 INFO sqlalchemy.engine.Engine [generated in 0.00105s] (6,)\n",
      "x: 6  y: 8\n",
      "x: 9  y: 10\n",
      "x: 11  y: 12\n",
      "x: 13  y: 14\n",
      "2024-08-11 16:02:58,574 INFO sqlalchemy.engine.Engine ROLLBACK\n"
     ]
    }
   ],
   "source": [
    "from sqlalchemy.orm import Session\n",
    "\n",
    "stmt = text(\"SELECT x, y FROM some_table WHERE y > :y ORDER BY x, y\")\n",
    "with Session(engine) as session:\n",
    "    result = session.execute(stmt, {\"y\": 6})\n",
    "    for row in result:\n",
    "        print(f\"x: {row.x}  y: {row.y}\")"
   ]
  },
  {
   "cell_type": "code",
   "execution_count": 11,
   "metadata": {},
   "outputs": [
    {
     "name": "stdout",
     "output_type": "stream",
     "text": [
      "2024-08-11 16:02:58,600 INFO sqlalchemy.engine.Engine BEGIN (implicit)\n",
      "2024-08-11 16:02:58,602 INFO sqlalchemy.engine.Engine UPDATE some_table SET y=? WHERE x=?\n",
      "2024-08-11 16:02:58,602 INFO sqlalchemy.engine.Engine [generated in 0.00115s] [(11, 9), (15, 13)]\n",
      "2024-08-11 16:02:58,604 INFO sqlalchemy.engine.Engine COMMIT\n"
     ]
    }
   ],
   "source": [
    "# Commit as you go behavior\n",
    "with Session(engine) as session:\n",
    "    result = session.execute(\n",
    "        text(\"UPDATE some_table SET y=:y WHERE x=:x\"),\n",
    "        [{\"x\": 9, \"y\": 11}, {\"x\": 13, \"y\": 15}],\n",
    "    )\n",
    "    session.commit()"
   ]
  },
  {
   "cell_type": "code",
   "execution_count": null,
   "metadata": {},
   "outputs": [],
   "source": []
  }
 ],
 "metadata": {
  "kernelspec": {
   "display_name": ".venv",
   "language": "python",
   "name": "python3"
  },
  "language_info": {
   "codemirror_mode": {
    "name": "ipython",
    "version": 3
   },
   "file_extension": ".py",
   "mimetype": "text/x-python",
   "name": "python",
   "nbconvert_exporter": "python",
   "pygments_lexer": "ipython3",
   "version": "3.11.6"
  }
 },
 "nbformat": 4,
 "nbformat_minor": 2
}
